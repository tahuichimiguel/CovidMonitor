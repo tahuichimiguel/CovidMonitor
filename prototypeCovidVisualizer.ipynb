{
 "cells": [
  {
   "cell_type": "code",
   "execution_count": null,
   "metadata": {},
   "outputs": [],
   "source": [
    "import pandas as pd\n",
    "import matplotlib.pyplot as plt\n",
    "import numpy as np\n",
    "from datetime import datetime"
   ]
  },
  {
   "cell_type": "code",
   "execution_count": null,
   "metadata": {},
   "outputs": [],
   "source": [
    "#Counties adjacent to Allegheny: [\"Washington\",\"Beaver\",\"Butler\",\"Armstrong\",\"Westmoreland\"]\n",
    "#relevant_counties = [\"Allegheny County\",\"Washington\",\"Beaver\",\"Butler\",\"Armstrong\",\"Westmoreland\"]\n",
    "\n",
    "state = \"PA\"\n",
    "county = [\"Allegheny County\"]\n",
    "week_window = 5\n",
    "first_relevant_week = '3/2/20'\n",
    "\n",
    "relevant_county_names = county\n",
    "days_window = week_window*7\n",
    "\n",
    "pa_phase_yellow_date = '5/15/20'"
   ]
  },
  {
   "cell_type": "code",
   "execution_count": null,
   "metadata": {},
   "outputs": [],
   "source": [
    "def days_between(d1, d2):\n",
    "    d1 = datetime.strptime(d1, \"%m/%d/%Y\")\n",
    "    d2 = datetime.strptime(d2, \"%m/%d/%Y\")\n",
    "    return abs((d2 - d1).days)"
   ]
  },
  {
   "cell_type": "code",
   "execution_count": null,
   "metadata": {},
   "outputs": [],
   "source": [
    "# Data Load\n",
    "covid_df = pd.read_csv(\"covid_confirmed_usafacts.csv\")\n",
    "pa_covid_df = covid_df[covid_df[\"State\"] == state]\n"
   ]
  },
  {
   "cell_type": "code",
   "execution_count": null,
   "metadata": {},
   "outputs": [],
   "source": [
    "# Data Processing\n",
    "\n",
    "## Data Filtering\n",
    "county_covid_df = pa_covid_df[pa_covid_df[\"County Name\"].isin(relevant_county_names)]\n",
    "\n",
    "## Data Transformation\n",
    "contained_dates = [a for a in county_covid_df.columns[4:]]\n",
    "transformed_county_covid_df = county_covid_df[contained_dates].transpose()\n",
    "transformed_county_covid_df = transformed_county_covid_df.rename(\n",
    "    columns = {transformed_county_covid_df.columns[0]:\"cases\"}\n",
    ")\n",
    "relevant_county_covid_df = transformed_county_covid_df[transformed_county_covid_df.index > first_relevant_week]"
   ]
  },
  {
   "cell_type": "code",
   "execution_count": null,
   "metadata": {},
   "outputs": [],
   "source": [
    "# Plot Total Cases\n",
    "relevant_county_covid_df.plot(y=\"cases\",\n",
    "                                 figsize = (10,5),\n",
    "                                 title = \"Total Cases in \" + str(relevant_county_names)\n",
    ")\n",
    "\n",
    "plt.grid()\n",
    "plt.savefig('TotalCases.png')"
   ]
  },
  {
   "cell_type": "code",
   "execution_count": null,
   "metadata": {
    "scrolled": false
   },
   "outputs": [],
   "source": [
    "# Plot New Cases\n",
    "diff_df = relevant_county_covid_df.diff()\n",
    "diff_df = diff_df.tail(days_window).rename(columns = {\"cases\":\"new-covid-cases\"})\n",
    "\n",
    "ymax = diff_df[\"new-covid-cases\"].max()\n",
    "xmax = diff_df.shape[0]\n",
    "\n",
    "diff_df.plot(y = \"new-covid-cases\",\n",
    "             kind = \"bar\", figsize = (20,8),\n",
    "             title = \"New Cases in \" + str(county) + \" (Last \" + str(days_window) + \" Days)\")\n",
    "plt.ylim(0,ymax+1)\n",
    "\n",
    "#hacky fix for year - fix at later point\n",
    "phase_yellow_location = days_between(pa_phase_yellow_date+str(20),diff_df.index[-1]+str(20)) - 1\n",
    "plt.vlines(x = xmax-phase_yellow_location,\n",
    "           ymin = 0,\n",
    "           ymax = ymax+1,\n",
    "           colors='y')\n",
    "\n",
    "plt.grid()\n",
    "plt.savefig('NewCases.png')"
   ]
  },
  {
   "cell_type": "code",
   "execution_count": null,
   "metadata": {},
   "outputs": [],
   "source": []
  }
 ],
 "metadata": {
  "kernelspec": {
   "display_name": "Python 3",
   "language": "python",
   "name": "python3"
  },
  "language_info": {
   "codemirror_mode": {
    "name": "ipython",
    "version": 3
   },
   "file_extension": ".py",
   "mimetype": "text/x-python",
   "name": "python",
   "nbconvert_exporter": "python",
   "pygments_lexer": "ipython3",
   "version": "3.7.4"
  }
 },
 "nbformat": 4,
 "nbformat_minor": 2
}
